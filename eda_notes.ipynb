{
 "cells": [
  {
   "cell_type": "markdown",
   "id": "6ce1d038-8b4d-4a4d-aa38-b63275a06d4a",
   "metadata": {},
   "source": [
    "### EDA with clustering in mind:  "
   ]
  },
  {
   "cell_type": "markdown",
   "id": "8f327ad3-e0b3-4035-b7e9-70150be2d6ca",
   "metadata": {},
   "source": [
    "    > what do we want to know more about this data."
   ]
  },
  {
   "cell_type": "markdown",
   "id": "c377ebcd-a3bc-4d18-acec-c1e58024208c",
   "metadata": {},
   "source": [
    "Why may be clustering be useful here?\n",
    "\n",
    "* We may not always walk into a project with the goal of using clustering as a first measure, it may be something that happens a little more organically as we investigate the interactions happening in the structure of our data.\n",
    "\n",
    "How would we potentially use clustering?\n",
    "\n",
    "* identifiation of nonlinear relationships\n",
    "\n",
    "CLustering in and if itself is urely unsupervised, which means that its an algorithmic structure that does not have a label or target in mind. This does not mean, however, that we will not be using it  to leverage in the scope of more nuanced feature engineering for supervised problems.\n",
    "\n",
    "ways to use clustering:\n",
    " - Exlporation of segments (Tell me more about our customers)\n",
    "\n",
    "\n",
    "\n",
    " | so take iris, if we were looking at the itis dataset and did not have labels available, what could we say about this data set?\n",
    "\n",
    " | We don't know what species these flowers are but if we look at the plot of the data we can "
   ]
  },
  {
   "cell_type": "code",
   "execution_count": null,
   "id": "1e602c40-081c-45f5-93a4-3aaa6521c4fd",
   "metadata": {},
   "outputs": [],
   "source": []
  }
 ],
 "metadata": {
  "kernelspec": {
   "display_name": "Python 3 (ipykernel)",
   "language": "python",
   "name": "python3"
  },
  "language_info": {
   "codemirror_mode": {
    "name": "ipython",
    "version": 3
   },
   "file_extension": ".py",
   "mimetype": "text/x-python",
   "name": "python",
   "nbconvert_exporter": "python",
   "pygments_lexer": "ipython3",
   "version": "3.10.9"
  }
 },
 "nbformat": 4,
 "nbformat_minor": 5
}
