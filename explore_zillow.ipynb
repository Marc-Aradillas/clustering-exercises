{
 "cells": [
  {
   "cell_type": "markdown",
   "id": "292cfb3f-b9bb-4997-8804-8e4a7cd43787",
   "metadata": {},
   "source": [
    "# Exercises"
   ]
  },
  {
   "cell_type": "markdown",
   "id": "31a3dcba-6208-45d9-a4cb-34edf446ffab",
   "metadata": {},
   "source": [
    "Sourcing the Zillow database as the data source, create a jupyter notebook named explore_zillow and do the following:\n",
    "\n",
    "Ask at least 5 questions about the data, keeping in mind that your target variable is logerror. e.g. Is logerror significantly different for properties in LA County vs Orange County vs Ventura County?\n",
    "\n",
    "Answer those questions through a mix of statistical tests and visualizations."
   ]
  },
  {
   "cell_type": "code",
   "execution_count": 1,
   "id": "fd4f01e2-0627-45f6-b088-85d5d3e0aa82",
   "metadata": {},
   "outputs": [],
   "source": [
    "# standard imports\n",
    "# ignore warnings\n",
    "import os\n",
    "from env import get_connection\n",
    "import warnings\n",
    "warnings.filterwarnings(\"ignore\")\n",
    "\n",
    "# Wrangling\n",
    "import pandas as pd\n",
    "import numpy as np\n",
    "\n",
    "# Exploring\n",
    "import scipy.stats as stats\n",
    "\n",
    "# Visualizing\n",
    "%matplotlib inline\n",
    "import matplotlib.pyplot as plt\n",
    "import seaborn as sns\n",
    "\n",
    "# default pandas decimal number display format\n",
    "pd.options.display.float_format = '{:20,.2f}'.format\n",
    "\n",
    "# possible modules, may just wrangle like before\n",
    "import wrangle\n",
    "import summarize"
   ]
  },
  {
   "cell_type": "code",
   "execution_count": 2,
   "id": "7410cf90-7377-4b6b-9c57-b32da9f532e9",
   "metadata": {},
   "outputs": [],
   "source": [
    "df = wrangle.wrangle_zillow()"
   ]
  },
  {
   "cell_type": "code",
   "execution_count": 3,
   "id": "08418393-1d23-4262-bf7f-7e388163d8dc",
   "metadata": {},
   "outputs": [
    {
     "data": {
      "text/plain": [
       "(35446, 41)"
      ]
     },
     "execution_count": 3,
     "metadata": {},
     "output_type": "execute_result"
    }
   ],
   "source": [
    "df.shape"
   ]
  },
  {
   "cell_type": "markdown",
   "id": "1a37a6ed-3e69-49c4-b61f-c62dfb03bac7",
   "metadata": {},
   "source": [
    "# 1. Is there a relationship between logerror and the property's location (e.g., county or city)? You can use visualizations like box plots or bar charts to compare logerror across different locations."
   ]
  },
  {
   "cell_type": "code",
   "execution_count": null,
   "id": "118bd06b-bc9a-44d3-a04c-b263435fb696",
   "metadata": {},
   "outputs": [],
   "source": [
    "df. "
   ]
  },
  {
   "cell_type": "markdown",
   "id": "1d1ba830-8293-4262-86c7-e75a9f42d912",
   "metadata": {},
   "source": [
    "# 2. How does logerror vary with property size (e.g., square footage)? You can create scatter plots to visualize this relationship."
   ]
  },
  {
   "cell_type": "code",
   "execution_count": null,
   "id": "3779b516-fcd4-4b15-b387-d9b7d1835e83",
   "metadata": {},
   "outputs": [],
   "source": []
  },
  {
   "cell_type": "markdown",
   "id": "be0e17cc-20db-447e-8dc6-94dddca5e85e",
   "metadata": {},
   "source": [
    "# 3. Is there a correlation between logerror and property age? You can calculate the correlation coefficient and plot a scatter plot to explore this."
   ]
  },
  {
   "cell_type": "code",
   "execution_count": null,
   "id": "75a8a731-ec47-4481-8751-03fd5ee45893",
   "metadata": {},
   "outputs": [],
   "source": []
  },
  {
   "cell_type": "markdown",
   "id": "9b274f03-a355-4ce6-8beb-cdac619de72c",
   "metadata": {},
   "source": [
    "# 4. Does logerror vary with the time of year (e.g., seasonality)? You can group the data by month and visualize logerror trends over time."
   ]
  },
  {
   "cell_type": "code",
   "execution_count": null,
   "id": "6adb5926-81e3-4085-a444-069684bf32d5",
   "metadata": {},
   "outputs": [],
   "source": []
  },
  {
   "cell_type": "markdown",
   "id": "28f6a5c0-6148-467f-8fc4-3999843b4612",
   "metadata": {},
   "source": [
    "# 5. Is there a difference in logerror for different property types (e.g., single-family homes vs. condos)? You can use groupings and statistical tests to compare logerror between property types."
   ]
  },
  {
   "cell_type": "code",
   "execution_count": null,
   "id": "e64b1c20-5238-4993-97a1-9630f591e48b",
   "metadata": {},
   "outputs": [],
   "source": []
  },
  {
   "cell_type": "markdown",
   "id": "43bebfa1-2479-460a-9e0f-9227e9dc6947",
   "metadata": {},
   "source": [
    "# Bonus:\n",
    "\n",
    "Compute the mean(logerror) by zipcode and the overall mean(logerror). Write a loop that will run a t-test between the overall mean and the mean for each zip code. We want to identify the zip codes where the error is significantly higher or lower than the expected error."
   ]
  },
  {
   "cell_type": "markdown",
   "id": "2006c1bc-7024-4566-804e-31a9e97dfafe",
   "metadata": {},
   "source": []
  }
 ],
 "metadata": {
  "kernelspec": {
   "display_name": "Python 3 (ipykernel)",
   "language": "python",
   "name": "python3"
  },
  "language_info": {
   "codemirror_mode": {
    "name": "ipython",
    "version": 3
   },
   "file_extension": ".py",
   "mimetype": "text/x-python",
   "name": "python",
   "nbconvert_exporter": "python",
   "pygments_lexer": "ipython3",
   "version": "3.10.12"
  }
 },
 "nbformat": 4,
 "nbformat_minor": 5
}
